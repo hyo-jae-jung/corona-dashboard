{
 "cells": [
  {
   "cell_type": "code",
   "execution_count": 41,
   "id": "eb2f3bad",
   "metadata": {},
   "outputs": [
    {
     "name": "stdout",
     "output_type": "stream",
     "text": [
      "  Country_Region  Confirmed  Deaths  Recovered\n",
      "0             US    5636930  175049    1965056\n",
      "1         Brazil    3532330  113358    2855558\n",
      "2          India    2975701   55794    2222577\n",
      "3         Russia     944671   16148     759639\n",
      "4   South Africa     603338   12843     500102\n"
     ]
    },
    {
     "data": {
      "application/vnd.plotly.v1+json": {
       "config": {
        "plotlyServerURL": "https://plot.ly"
       },
       "data": [
        {
         "customdata": [
          [
           5636930,
           175049,
           1965056,
           "US"
          ],
          [
           3532330,
           113358,
           2855558,
           "Brazil"
          ],
          [
           2975701,
           55794,
           2222577,
           "India"
          ],
          [
           944671,
           16148,
           759639,
           "Russia"
          ],
          [
           603338,
           12843,
           500102,
           "South Africa"
          ],
          [
           567059,
           68791,
           380730,
           "Peru"
          ],
          [
           549734,
           59610,
           448344,
           "Mexico"
          ],
          [
           522138,
           16568,
           348940,
           "Colombia"
          ],
          [
           393769,
           10723,
           367897,
           "Chile"
          ],
          [
           386054,
           28838,
           150376,
           "Spain"
          ],
          [
           354764,
           20376,
           305866,
           "Iran"
          ],
          [
           329043,
           6730,
           239806,
           "Argentina"
          ],
          [
           325263,
           41491,
           1544,
           "United Kingdom"
          ],
          [
           305186,
           3580,
           277067,
           "Saudi Arabia"
          ],
          [
           291588,
           6219,
           273579,
           "Pakistan"
          ],
          [
           290360,
           3861,
           172615,
           "Bangladesh"
          ],
          [
           274289,
           30509,
           84981,
           "France"
          ],
          [
           257065,
           35427,
           204960,
           "Italy"
          ],
          [
           255723,
           6080,
           235569,
           "Turkey"
          ],
          [
           233029,
           9266,
           206656,
           "Germany"
          ],
          [
           197085,
           6283,
           140446,
           "Iraq"
          ],
          [
           182365,
           2940,
           114519,
           "Philippines"
          ],
          [
           149408,
           6500,
           102991,
           "Indonesia"
          ],
          [
           126212,
           9141,
           112381,
           "Canada"
          ],
          [
           125335,
           1633,
           89712,
           "Kazakhstan"
          ],
          [
           116481,
           193,
           113216,
           "Qatar"
          ],
          [
           107435,
           4366,
           42141,
           "Bolivia"
          ],
          [
           106481,
           6248,
           87730,
           "Ecuador"
          ],
          [
           102948,
           2248,
           52769,
           "Ukraine"
          ],
          [
           101329,
           819,
           77513,
           "Israel"
          ],
          [
           97148,
           5231,
           64318,
           "Egypt"
          ],
          [
           89867,
           1533,
           59132,
           "Dominican Republic"
          ],
          [
           89616,
           4709,
           83793,
           "China"
          ],
          [
           86068,
           5810,
           0,
           "Sweden"
          ],
          [
           84392,
           1859,
           59722,
           "Panama"
          ],
          [
           83769,
           609,
           78386,
           "Oman"
          ],
          [
           80894,
           9985,
           18165,
           "Belgium"
          ],
          [
           79269,
           511,
           71264,
           "Kuwait"
          ],
          [
           76355,
           3196,
           34523,
           "Romania"
          ],
          [
           70111,
           632,
           68256,
           "Belarus"
          ],
          [
           67456,
           6219,
           600,
           "Netherlands"
          ],
          [
           66941,
           2532,
           55314,
           "Guatemala"
          ],
          [
           66193,
           370,
           58296,
           "United Arab Emirates"
          ],
          [
           60949,
           1175,
           46264,
           "Japan"
          ],
          [
           60281,
           1938,
           41029,
           "Poland"
          ],
          [
           56216,
           27,
           53651,
           "Singapore"
          ],
          [
           55211,
           1792,
           40473,
           "Portugal"
          ],
          [
           53381,
           1632,
           8271,
           "Honduras"
          ],
          [
           51304,
           996,
           37885,
           "Nigeria"
          ],
          [
           49247,
           817,
           34199,
           "Morocco"
          ],
          [
           48661,
           181,
           45166,
           "Bahrain"
          ],
          [
           43325,
           261,
           41408,
           "Ghana"
          ],
          [
           42703,
           1055,
           35831,
           "Kyrgyzstan"
          ],
          [
           42477,
           842,
           35693,
           "Armenia"
          ],
          [
           40667,
           1418,
           28587,
           "Algeria"
          ],
          [
           39332,
           1841,
           33900,
           "Switzerland"
          ],
          [
           38219,
           317,
           27306,
           "Venezuela"
          ],
          [
           38074,
           260,
           33989,
           "Uzbekistan"
          ],
          [
           37942,
           1389,
           28016,
           "Afghanistan"
          ],
          [
           37665,
           637,
           13913,
           "Ethiopia"
          ],
          [
           34921,
           512,
           32682,
           "Azerbaijan"
          ],
          [
           32484,
           929,
           22683,
           "Moldova"
          ],
          [
           32134,
           340,
           10159,
           "Costa Rica"
          ],
          [
           31763,
           532,
           18157,
           "Kenya"
          ],
          [
           30483,
           137,
           18214,
           "Nepal"
          ],
          [
           30378,
           692,
           0,
           "Serbia"
          ],
          [
           27755,
           1776,
           23364,
           "Ireland"
          ],
          [
           24762,
           730,
           21260,
           "Austria"
          ],
          [
           24602,
           485,
           15466,
           "Australia"
          ],
          [
           24200,
           646,
           11781,
           "El Salvador"
          ],
          [
           21551,
           411,
           16040,
           "Czechia"
          ],
          [
           18762,
           408,
           16540,
           "Cameroon"
          ],
          [
           18313,
           122,
           11102,
           "West Bank and Gaza"
          ],
          [
           17396,
           526,
           11157,
           "Bosnia and Herzegovina"
          ],
          [
           17310,
           112,
           14820,
           "Cote d'Ivoire"
          ],
          [
           17002,
           309,
           14169,
           "Korea, South"
          ],
          [
           16525,
           621,
           14258,
           "Denmark"
          ],
          [
           15131,
           539,
           10282,
           "Bulgaria"
          ],
          [
           14218,
           178,
           13206,
           "Madagascar"
          ],
          [
           13308,
           557,
           9977,
           "North Macedonia"
          ],
          [
           12689,
           262,
           8165,
           "Senegal"
          ],
          [
           12682,
           812,
           6476,
           "Sudan"
          ],
          [
           12536,
           182,
           7007,
           "Paraguay"
          ],
          [
           12168,
           448,
           8149,
           "Kosovo"
          ],
          [
           11580,
           116,
           3204,
           "Lebanon"
          ],
          [
           10627,
           277,
           9126,
           "Zambia"
          ],
          [
           10275,
           264,
           9150,
           "Norway"
          ],
          [
           10121,
           180,
           1053,
           "Libya"
          ],
          [
           9802,
           248,
           8920,
           "Congo (Kinshasa)"
          ],
          [
           9249,
           125,
           8944,
           "Malaysia"
          ],
          [
           8932,
           53,
           7648,
           "Guinea"
          ],
          [
           8388,
           53,
           6734,
           "Gabon"
          ],
          [
           8203,
           66,
           7040,
           "Tajikistan"
          ],
          [
           8138,
           238,
           1347,
           "Greece"
          ],
          [
           8119,
           240,
           4096,
           "Albania"
          ],
          [
           7997,
           196,
           5447,
           "Haiti"
          ],
          [
           7871,
           334,
           7100,
           "Finland"
          ],
          [
           7704,
           124,
           6969,
           "Luxembourg"
          ],
          [
           7594,
           169,
           5584,
           "Croatia"
          ],
          [
           6885,
           158,
           6186,
           "Mauritania"
          ],
          [
           6564,
           26,
           4012,
           "Maldives"
          ],
          [
           5815,
           152,
           4587,
           "Zimbabwe"
          ],
          [
           5382,
           60,
           5233,
           "Djibouti"
          ],
          [
           5322,
           166,
           2929,
           "Malawi"
          ],
          [
           5227,
           42,
           2457,
           "Namibia"
          ],
          [
           5098,
           611,
           3681,
           "Hungary"
          ],
          [
           4926,
           83,
           2713,
           "Equatorial Guinea"
          ],
          [
           4679,
           61,
           1755,
           "Central African Republic"
          ],
          [
           4311,
           133,
           2913,
           "Nicaragua"
          ],
          [
           4277,
           82,
           3281,
           "Montenegro"
          ],
          [
           4128,
           81,
           2682,
           "Eswatini"
          ],
          [
           3850,
           77,
           1625,
           "Congo (Brazzaville)"
          ],
          [
           3582,
           89,
           2951,
           "Cuba"
          ],
          [
           3460,
           56,
           2498,
           "Suriname"
          ],
          [
           3412,
           37,
           2498,
           "Cabo Verde"
          ],
          [
           3390,
           58,
           3219,
           "Thailand"
          ],
          [
           3265,
           93,
           2396,
           "Somalia"
          ],
          [
           3225,
           33,
           2045,
           "Slovakia"
          ],
          [
           3195,
           20,
           1406,
           "Mozambique"
          ],
          [
           2941,
           11,
           2789,
           "Sri Lanka"
          ],
          [
           2780,
           11,
           1712,
           "Rwanda"
          ],
          [
           2688,
           125,
           2007,
           "Mali"
          ],
          [
           2607,
           64,
           1420,
           "Tunisia"
          ],
          [
           2574,
           130,
           2079,
           "Slovenia"
          ],
          [
           2558,
           66,
           1786,
           "Lithuania"
          ],
          [
           2497,
           47,
           1290,
           "South Sudan"
          ],
          [
           2437,
           84,
           455,
           "Gambia"
          ],
          [
           2244,
           63,
           2011,
           "Estonia"
          ],
          [
           2149,
           33,
           1015,
           "Guinea-Bissau"
          ],
          [
           2095,
           39,
           1705,
           "Benin"
          ],
          [
           2073,
           83,
           475,
           "Syria"
          ],
          [
           2068,
           94,
           804,
           "Angola"
          ],
          [
           2050,
           10,
           1920,
           "Iceland"
          ],
          [
           1972,
           69,
           1542,
           "Sierra Leone"
          ],
          [
           1906,
           542,
           1058,
           "Yemen"
          ],
          [
           1848,
           19,
           1199,
           "Uganda"
          ],
          [
           1703,
           27,
           221,
           "Bahamas"
          ],
          [
           1671,
           22,
           1538,
           "New Zealand"
          ],
          [
           1546,
           10,
           854,
           "Malta"
          ],
          [
           1532,
           11,
           1262,
           "Jordan"
          ],
          [
           1516,
           42,
           1249,
           "Uruguay"
          ],
          [
           1395,
           21,
           878,
           "Cyprus"
          ],
          [
           1385,
           17,
           1128,
           "Georgia"
          ],
          [
           1346,
           16,
           788,
           "Jamaica"
          ],
          [
           1330,
           33,
           1093,
           "Latvia"
          ],
          [
           1308,
           3,
           136,
           "Botswana"
          ],
          [
           1297,
           55,
           1034,
           "Burkina Faso"
          ],
          [
           1284,
           82,
           803,
           "Liberia"
          ],
          [
           1239,
           27,
           891,
           "Togo"
          ],
          [
           1172,
           69,
           1083,
           "Niger"
          ],
          [
           1045,
           53,
           875,
           "Andorra"
          ],
          [
           1015,
           30,
           472,
           "Lesotho"
          ],
          [
           1009,
           25,
           545,
           "Vietnam"
          ],
          [
           981,
           76,
           869,
           "Chad"
          ],
          [
           891,
           15,
           830,
           "Sao Tome and Principe"
          ],
          [
           881,
           30,
           433,
           "Guyana"
          ],
          [
           864,
           12,
           162,
           "Trinidad and Tobago"
          ],
          [
           726,
           42,
           657,
           "San Marino"
          ],
          [
           712,
           13,
           651,
           "Diamond Princess"
          ],
          [
           648,
           5,
           43,
           "Belize"
          ],
          [
           509,
           21,
           183,
           "Tanzania"
          ],
          [
           487,
           7,
           457,
           "Taiwan*"
          ],
          [
           435,
           6,
           337,
           "Burma"
          ],
          [
           426,
           1,
           336,
           "Burundi"
          ],
          [
           417,
           7,
           396,
           "Comoros"
          ],
          [
           361,
           4,
           198,
           "Papua New Guinea"
          ],
          [
           346,
           10,
           334,
           "Mauritius"
          ],
          [
           306,
           0,
           274,
           "Eritrea"
          ],
          [
           298,
           0,
           288,
           "Mongolia"
          ],
          [
           273,
           0,
           263,
           "Cambodia"
          ],
          [
           157,
           7,
           124,
           "Barbados"
          ],
          [
           154,
           0,
           110,
           "Bhutan"
          ],
          [
           154,
           4,
           116,
           "Monaco"
          ],
          [
           143,
           3,
           139,
           "Brunei"
          ],
          [
           127,
           0,
           126,
           "Seychelles"
          ],
          [
           100,
           1,
           88,
           "Liechtenstein"
          ],
          [
           94,
           3,
           89,
           "Antigua and Barbuda"
          ],
          [
           58,
           0,
           56,
           "Saint Vincent and the Grenadines"
          ],
          [
           28,
           1,
           20,
           "Fiji"
          ],
          [
           26,
           0,
           25,
           "Saint Lucia"
          ],
          [
           25,
           0,
           25,
           "Timor-Leste"
          ],
          [
           24,
           0,
           24,
           "Grenada"
          ],
          [
           22,
           0,
           20,
           "Laos"
          ],
          [
           18,
           0,
           18,
           "Dominica"
          ],
          [
           17,
           0,
           17,
           "Saint Kitts and Nevis"
          ],
          [
           12,
           0,
           12,
           "Holy See"
          ],
          [
           9,
           2,
           0,
           "MS Zaandam"
          ],
          [
           0,
           0,
           0,
           "Summer Olympics 2020"
          ],
          [
           0,
           0,
           0,
           "Samoa"
          ],
          [
           0,
           0,
           0,
           "Palau"
          ],
          [
           0,
           0,
           0,
           "Kiribati"
          ]
         ],
         "geo": "geo",
         "hovertemplate": "<b>%{hovertext}</b><br><br>Confirmed=%{marker.color:,.0f}<br>Deaths=%{customdata[1]:,.0f}<br>Recovered=%{customdata[2]:,.0f}<extra></extra>",
         "hovertext": [
          "US",
          "Brazil",
          "India",
          "Russia",
          "South Africa",
          "Peru",
          "Mexico",
          "Colombia",
          "Chile",
          "Spain",
          "Iran",
          "Argentina",
          "United Kingdom",
          "Saudi Arabia",
          "Pakistan",
          "Bangladesh",
          "France",
          "Italy",
          "Turkey",
          "Germany",
          "Iraq",
          "Philippines",
          "Indonesia",
          "Canada",
          "Kazakhstan",
          "Qatar",
          "Bolivia",
          "Ecuador",
          "Ukraine",
          "Israel",
          "Egypt",
          "Dominican Republic",
          "China",
          "Sweden",
          "Panama",
          "Oman",
          "Belgium",
          "Kuwait",
          "Romania",
          "Belarus",
          "Netherlands",
          "Guatemala",
          "United Arab Emirates",
          "Japan",
          "Poland",
          "Singapore",
          "Portugal",
          "Honduras",
          "Nigeria",
          "Morocco",
          "Bahrain",
          "Ghana",
          "Kyrgyzstan",
          "Armenia",
          "Algeria",
          "Switzerland",
          "Venezuela",
          "Uzbekistan",
          "Afghanistan",
          "Ethiopia",
          "Azerbaijan",
          "Moldova",
          "Costa Rica",
          "Kenya",
          "Nepal",
          "Serbia",
          "Ireland",
          "Austria",
          "Australia",
          "El Salvador",
          "Czechia",
          "Cameroon",
          "West Bank and Gaza",
          "Bosnia and Herzegovina",
          "Cote d'Ivoire",
          "Korea, South",
          "Denmark",
          "Bulgaria",
          "Madagascar",
          "North Macedonia",
          "Senegal",
          "Sudan",
          "Paraguay",
          "Kosovo",
          "Lebanon",
          "Zambia",
          "Norway",
          "Libya",
          "Congo (Kinshasa)",
          "Malaysia",
          "Guinea",
          "Gabon",
          "Tajikistan",
          "Greece",
          "Albania",
          "Haiti",
          "Finland",
          "Luxembourg",
          "Croatia",
          "Mauritania",
          "Maldives",
          "Zimbabwe",
          "Djibouti",
          "Malawi",
          "Namibia",
          "Hungary",
          "Equatorial Guinea",
          "Central African Republic",
          "Nicaragua",
          "Montenegro",
          "Eswatini",
          "Congo (Brazzaville)",
          "Cuba",
          "Suriname",
          "Cabo Verde",
          "Thailand",
          "Somalia",
          "Slovakia",
          "Mozambique",
          "Sri Lanka",
          "Rwanda",
          "Mali",
          "Tunisia",
          "Slovenia",
          "Lithuania",
          "South Sudan",
          "Gambia",
          "Estonia",
          "Guinea-Bissau",
          "Benin",
          "Syria",
          "Angola",
          "Iceland",
          "Sierra Leone",
          "Yemen",
          "Uganda",
          "Bahamas",
          "New Zealand",
          "Malta",
          "Jordan",
          "Uruguay",
          "Cyprus",
          "Georgia",
          "Jamaica",
          "Latvia",
          "Botswana",
          "Burkina Faso",
          "Liberia",
          "Togo",
          "Niger",
          "Andorra",
          "Lesotho",
          "Vietnam",
          "Chad",
          "Sao Tome and Principe",
          "Guyana",
          "Trinidad and Tobago",
          "San Marino",
          "Diamond Princess",
          "Belize",
          "Tanzania",
          "Taiwan*",
          "Burma",
          "Burundi",
          "Comoros",
          "Papua New Guinea",
          "Mauritius",
          "Eritrea",
          "Mongolia",
          "Cambodia",
          "Barbados",
          "Bhutan",
          "Monaco",
          "Brunei",
          "Seychelles",
          "Liechtenstein",
          "Antigua and Barbuda",
          "Saint Vincent and the Grenadines",
          "Fiji",
          "Saint Lucia",
          "Timor-Leste",
          "Grenada",
          "Laos",
          "Dominica",
          "Saint Kitts and Nevis",
          "Holy See",
          "MS Zaandam",
          "Summer Olympics 2020",
          "Samoa",
          "Palau",
          "Kiribati"
         ],
         "legendgroup": "",
         "locationmode": "country names",
         "locations": [
          "US",
          "Brazil",
          "India",
          "Russia",
          "South Africa",
          "Peru",
          "Mexico",
          "Colombia",
          "Chile",
          "Spain",
          "Iran",
          "Argentina",
          "United Kingdom",
          "Saudi Arabia",
          "Pakistan",
          "Bangladesh",
          "France",
          "Italy",
          "Turkey",
          "Germany",
          "Iraq",
          "Philippines",
          "Indonesia",
          "Canada",
          "Kazakhstan",
          "Qatar",
          "Bolivia",
          "Ecuador",
          "Ukraine",
          "Israel",
          "Egypt",
          "Dominican Republic",
          "China",
          "Sweden",
          "Panama",
          "Oman",
          "Belgium",
          "Kuwait",
          "Romania",
          "Belarus",
          "Netherlands",
          "Guatemala",
          "United Arab Emirates",
          "Japan",
          "Poland",
          "Singapore",
          "Portugal",
          "Honduras",
          "Nigeria",
          "Morocco",
          "Bahrain",
          "Ghana",
          "Kyrgyzstan",
          "Armenia",
          "Algeria",
          "Switzerland",
          "Venezuela",
          "Uzbekistan",
          "Afghanistan",
          "Ethiopia",
          "Azerbaijan",
          "Moldova",
          "Costa Rica",
          "Kenya",
          "Nepal",
          "Serbia",
          "Ireland",
          "Austria",
          "Australia",
          "El Salvador",
          "Czechia",
          "Cameroon",
          "West Bank and Gaza",
          "Bosnia and Herzegovina",
          "Cote d'Ivoire",
          "Korea, South",
          "Denmark",
          "Bulgaria",
          "Madagascar",
          "North Macedonia",
          "Senegal",
          "Sudan",
          "Paraguay",
          "Kosovo",
          "Lebanon",
          "Zambia",
          "Norway",
          "Libya",
          "Congo (Kinshasa)",
          "Malaysia",
          "Guinea",
          "Gabon",
          "Tajikistan",
          "Greece",
          "Albania",
          "Haiti",
          "Finland",
          "Luxembourg",
          "Croatia",
          "Mauritania",
          "Maldives",
          "Zimbabwe",
          "Djibouti",
          "Malawi",
          "Namibia",
          "Hungary",
          "Equatorial Guinea",
          "Central African Republic",
          "Nicaragua",
          "Montenegro",
          "Eswatini",
          "Congo (Brazzaville)",
          "Cuba",
          "Suriname",
          "Cabo Verde",
          "Thailand",
          "Somalia",
          "Slovakia",
          "Mozambique",
          "Sri Lanka",
          "Rwanda",
          "Mali",
          "Tunisia",
          "Slovenia",
          "Lithuania",
          "South Sudan",
          "Gambia",
          "Estonia",
          "Guinea-Bissau",
          "Benin",
          "Syria",
          "Angola",
          "Iceland",
          "Sierra Leone",
          "Yemen",
          "Uganda",
          "Bahamas",
          "New Zealand",
          "Malta",
          "Jordan",
          "Uruguay",
          "Cyprus",
          "Georgia",
          "Jamaica",
          "Latvia",
          "Botswana",
          "Burkina Faso",
          "Liberia",
          "Togo",
          "Niger",
          "Andorra",
          "Lesotho",
          "Vietnam",
          "Chad",
          "Sao Tome and Principe",
          "Guyana",
          "Trinidad and Tobago",
          "San Marino",
          "Diamond Princess",
          "Belize",
          "Tanzania",
          "Taiwan*",
          "Burma",
          "Burundi",
          "Comoros",
          "Papua New Guinea",
          "Mauritius",
          "Eritrea",
          "Mongolia",
          "Cambodia",
          "Barbados",
          "Bhutan",
          "Monaco",
          "Brunei",
          "Seychelles",
          "Liechtenstein",
          "Antigua and Barbuda",
          "Saint Vincent and the Grenadines",
          "Fiji",
          "Saint Lucia",
          "Timor-Leste",
          "Grenada",
          "Laos",
          "Dominica",
          "Saint Kitts and Nevis",
          "Holy See",
          "MS Zaandam",
          "Summer Olympics 2020",
          "Samoa",
          "Palau",
          "Kiribati"
         ],
         "marker": {
          "color": [
           5636930,
           3532330,
           2975701,
           944671,
           603338,
           567059,
           549734,
           522138,
           393769,
           386054,
           354764,
           329043,
           325263,
           305186,
           291588,
           290360,
           274289,
           257065,
           255723,
           233029,
           197085,
           182365,
           149408,
           126212,
           125335,
           116481,
           107435,
           106481,
           102948,
           101329,
           97148,
           89867,
           89616,
           86068,
           84392,
           83769,
           80894,
           79269,
           76355,
           70111,
           67456,
           66941,
           66193,
           60949,
           60281,
           56216,
           55211,
           53381,
           51304,
           49247,
           48661,
           43325,
           42703,
           42477,
           40667,
           39332,
           38219,
           38074,
           37942,
           37665,
           34921,
           32484,
           32134,
           31763,
           30483,
           30378,
           27755,
           24762,
           24602,
           24200,
           21551,
           18762,
           18313,
           17396,
           17310,
           17002,
           16525,
           15131,
           14218,
           13308,
           12689,
           12682,
           12536,
           12168,
           11580,
           10627,
           10275,
           10121,
           9802,
           9249,
           8932,
           8388,
           8203,
           8138,
           8119,
           7997,
           7871,
           7704,
           7594,
           6885,
           6564,
           5815,
           5382,
           5322,
           5227,
           5098,
           4926,
           4679,
           4311,
           4277,
           4128,
           3850,
           3582,
           3460,
           3412,
           3390,
           3265,
           3225,
           3195,
           2941,
           2780,
           2688,
           2607,
           2574,
           2558,
           2497,
           2437,
           2244,
           2149,
           2095,
           2073,
           2068,
           2050,
           1972,
           1906,
           1848,
           1703,
           1671,
           1546,
           1532,
           1516,
           1395,
           1385,
           1346,
           1330,
           1308,
           1297,
           1284,
           1239,
           1172,
           1045,
           1015,
           1009,
           981,
           891,
           881,
           864,
           726,
           712,
           648,
           509,
           487,
           435,
           426,
           417,
           361,
           346,
           306,
           298,
           273,
           157,
           154,
           154,
           143,
           127,
           100,
           94,
           58,
           28,
           26,
           25,
           24,
           22,
           18,
           17,
           12,
           9,
           0,
           0,
           0,
           0
          ],
          "coloraxis": "coloraxis",
          "size": [
           5636930,
           3532330,
           2975701,
           944671,
           603338,
           567059,
           549734,
           522138,
           393769,
           386054,
           354764,
           329043,
           325263,
           305186,
           291588,
           290360,
           274289,
           257065,
           255723,
           233029,
           197085,
           182365,
           149408,
           126212,
           125335,
           116481,
           107435,
           106481,
           102948,
           101329,
           97148,
           89867,
           89616,
           86068,
           84392,
           83769,
           80894,
           79269,
           76355,
           70111,
           67456,
           66941,
           66193,
           60949,
           60281,
           56216,
           55211,
           53381,
           51304,
           49247,
           48661,
           43325,
           42703,
           42477,
           40667,
           39332,
           38219,
           38074,
           37942,
           37665,
           34921,
           32484,
           32134,
           31763,
           30483,
           30378,
           27755,
           24762,
           24602,
           24200,
           21551,
           18762,
           18313,
           17396,
           17310,
           17002,
           16525,
           15131,
           14218,
           13308,
           12689,
           12682,
           12536,
           12168,
           11580,
           10627,
           10275,
           10121,
           9802,
           9249,
           8932,
           8388,
           8203,
           8138,
           8119,
           7997,
           7871,
           7704,
           7594,
           6885,
           6564,
           5815,
           5382,
           5322,
           5227,
           5098,
           4926,
           4679,
           4311,
           4277,
           4128,
           3850,
           3582,
           3460,
           3412,
           3390,
           3265,
           3225,
           3195,
           2941,
           2780,
           2688,
           2607,
           2574,
           2558,
           2497,
           2437,
           2244,
           2149,
           2095,
           2073,
           2068,
           2050,
           1972,
           1906,
           1848,
           1703,
           1671,
           1546,
           1532,
           1516,
           1395,
           1385,
           1346,
           1330,
           1308,
           1297,
           1284,
           1239,
           1172,
           1045,
           1015,
           1009,
           981,
           891,
           881,
           864,
           726,
           712,
           648,
           509,
           487,
           435,
           426,
           417,
           361,
           346,
           306,
           298,
           273,
           157,
           154,
           154,
           143,
           127,
           100,
           94,
           58,
           28,
           26,
           25,
           24,
           22,
           18,
           17,
           12,
           9,
           0,
           0,
           0,
           0
          ],
          "sizemode": "area",
          "sizeref": 3523.08125,
          "symbol": "circle"
         },
         "mode": "markers",
         "name": "",
         "showlegend": false,
         "type": "scattergeo"
        }
       ],
       "layout": {
        "coloraxis": {
         "colorbar": {
          "title": {
           "text": "Confirmed"
          }
         },
         "colorscale": [
          [
           0,
           "#0d0887"
          ],
          [
           0.1111111111111111,
           "#46039f"
          ],
          [
           0.2222222222222222,
           "#7201a8"
          ],
          [
           0.3333333333333333,
           "#9c179e"
          ],
          [
           0.4444444444444444,
           "#bd3786"
          ],
          [
           0.5555555555555556,
           "#d8576b"
          ],
          [
           0.6666666666666666,
           "#ed7953"
          ],
          [
           0.7777777777777778,
           "#fb9f3a"
          ],
          [
           0.8888888888888888,
           "#fdca26"
          ],
          [
           1,
           "#f0f921"
          ]
         ]
        },
        "geo": {
         "center": {},
         "domain": {
          "x": [
           0,
           1
          ],
          "y": [
           0,
           1
          ]
         }
        },
        "legend": {
         "itemsizing": "constant",
         "tracegroupgap": 0
        },
        "margin": {
         "t": 60
        },
        "template": {
         "data": {
          "bar": [
           {
            "error_x": {
             "color": "#f2f5fa"
            },
            "error_y": {
             "color": "#f2f5fa"
            },
            "marker": {
             "line": {
              "color": "rgb(17,17,17)",
              "width": 0.5
             },
             "pattern": {
              "fillmode": "overlay",
              "size": 10,
              "solidity": 0.2
             }
            },
            "type": "bar"
           }
          ],
          "barpolar": [
           {
            "marker": {
             "line": {
              "color": "rgb(17,17,17)",
              "width": 0.5
             },
             "pattern": {
              "fillmode": "overlay",
              "size": 10,
              "solidity": 0.2
             }
            },
            "type": "barpolar"
           }
          ],
          "carpet": [
           {
            "aaxis": {
             "endlinecolor": "#A2B1C6",
             "gridcolor": "#506784",
             "linecolor": "#506784",
             "minorgridcolor": "#506784",
             "startlinecolor": "#A2B1C6"
            },
            "baxis": {
             "endlinecolor": "#A2B1C6",
             "gridcolor": "#506784",
             "linecolor": "#506784",
             "minorgridcolor": "#506784",
             "startlinecolor": "#A2B1C6"
            },
            "type": "carpet"
           }
          ],
          "choropleth": [
           {
            "colorbar": {
             "outlinewidth": 0,
             "ticks": ""
            },
            "type": "choropleth"
           }
          ],
          "contour": [
           {
            "colorbar": {
             "outlinewidth": 0,
             "ticks": ""
            },
            "colorscale": [
             [
              0,
              "#0d0887"
             ],
             [
              0.1111111111111111,
              "#46039f"
             ],
             [
              0.2222222222222222,
              "#7201a8"
             ],
             [
              0.3333333333333333,
              "#9c179e"
             ],
             [
              0.4444444444444444,
              "#bd3786"
             ],
             [
              0.5555555555555556,
              "#d8576b"
             ],
             [
              0.6666666666666666,
              "#ed7953"
             ],
             [
              0.7777777777777778,
              "#fb9f3a"
             ],
             [
              0.8888888888888888,
              "#fdca26"
             ],
             [
              1,
              "#f0f921"
             ]
            ],
            "type": "contour"
           }
          ],
          "contourcarpet": [
           {
            "colorbar": {
             "outlinewidth": 0,
             "ticks": ""
            },
            "type": "contourcarpet"
           }
          ],
          "heatmap": [
           {
            "colorbar": {
             "outlinewidth": 0,
             "ticks": ""
            },
            "colorscale": [
             [
              0,
              "#0d0887"
             ],
             [
              0.1111111111111111,
              "#46039f"
             ],
             [
              0.2222222222222222,
              "#7201a8"
             ],
             [
              0.3333333333333333,
              "#9c179e"
             ],
             [
              0.4444444444444444,
              "#bd3786"
             ],
             [
              0.5555555555555556,
              "#d8576b"
             ],
             [
              0.6666666666666666,
              "#ed7953"
             ],
             [
              0.7777777777777778,
              "#fb9f3a"
             ],
             [
              0.8888888888888888,
              "#fdca26"
             ],
             [
              1,
              "#f0f921"
             ]
            ],
            "type": "heatmap"
           }
          ],
          "heatmapgl": [
           {
            "colorbar": {
             "outlinewidth": 0,
             "ticks": ""
            },
            "colorscale": [
             [
              0,
              "#0d0887"
             ],
             [
              0.1111111111111111,
              "#46039f"
             ],
             [
              0.2222222222222222,
              "#7201a8"
             ],
             [
              0.3333333333333333,
              "#9c179e"
             ],
             [
              0.4444444444444444,
              "#bd3786"
             ],
             [
              0.5555555555555556,
              "#d8576b"
             ],
             [
              0.6666666666666666,
              "#ed7953"
             ],
             [
              0.7777777777777778,
              "#fb9f3a"
             ],
             [
              0.8888888888888888,
              "#fdca26"
             ],
             [
              1,
              "#f0f921"
             ]
            ],
            "type": "heatmapgl"
           }
          ],
          "histogram": [
           {
            "marker": {
             "pattern": {
              "fillmode": "overlay",
              "size": 10,
              "solidity": 0.2
             }
            },
            "type": "histogram"
           }
          ],
          "histogram2d": [
           {
            "colorbar": {
             "outlinewidth": 0,
             "ticks": ""
            },
            "colorscale": [
             [
              0,
              "#0d0887"
             ],
             [
              0.1111111111111111,
              "#46039f"
             ],
             [
              0.2222222222222222,
              "#7201a8"
             ],
             [
              0.3333333333333333,
              "#9c179e"
             ],
             [
              0.4444444444444444,
              "#bd3786"
             ],
             [
              0.5555555555555556,
              "#d8576b"
             ],
             [
              0.6666666666666666,
              "#ed7953"
             ],
             [
              0.7777777777777778,
              "#fb9f3a"
             ],
             [
              0.8888888888888888,
              "#fdca26"
             ],
             [
              1,
              "#f0f921"
             ]
            ],
            "type": "histogram2d"
           }
          ],
          "histogram2dcontour": [
           {
            "colorbar": {
             "outlinewidth": 0,
             "ticks": ""
            },
            "colorscale": [
             [
              0,
              "#0d0887"
             ],
             [
              0.1111111111111111,
              "#46039f"
             ],
             [
              0.2222222222222222,
              "#7201a8"
             ],
             [
              0.3333333333333333,
              "#9c179e"
             ],
             [
              0.4444444444444444,
              "#bd3786"
             ],
             [
              0.5555555555555556,
              "#d8576b"
             ],
             [
              0.6666666666666666,
              "#ed7953"
             ],
             [
              0.7777777777777778,
              "#fb9f3a"
             ],
             [
              0.8888888888888888,
              "#fdca26"
             ],
             [
              1,
              "#f0f921"
             ]
            ],
            "type": "histogram2dcontour"
           }
          ],
          "mesh3d": [
           {
            "colorbar": {
             "outlinewidth": 0,
             "ticks": ""
            },
            "type": "mesh3d"
           }
          ],
          "parcoords": [
           {
            "line": {
             "colorbar": {
              "outlinewidth": 0,
              "ticks": ""
             }
            },
            "type": "parcoords"
           }
          ],
          "pie": [
           {
            "automargin": true,
            "type": "pie"
           }
          ],
          "scatter": [
           {
            "marker": {
             "line": {
              "color": "#283442"
             }
            },
            "type": "scatter"
           }
          ],
          "scatter3d": [
           {
            "line": {
             "colorbar": {
              "outlinewidth": 0,
              "ticks": ""
             }
            },
            "marker": {
             "colorbar": {
              "outlinewidth": 0,
              "ticks": ""
             }
            },
            "type": "scatter3d"
           }
          ],
          "scattercarpet": [
           {
            "marker": {
             "colorbar": {
              "outlinewidth": 0,
              "ticks": ""
             }
            },
            "type": "scattercarpet"
           }
          ],
          "scattergeo": [
           {
            "marker": {
             "colorbar": {
              "outlinewidth": 0,
              "ticks": ""
             }
            },
            "type": "scattergeo"
           }
          ],
          "scattergl": [
           {
            "marker": {
             "line": {
              "color": "#283442"
             }
            },
            "type": "scattergl"
           }
          ],
          "scattermapbox": [
           {
            "marker": {
             "colorbar": {
              "outlinewidth": 0,
              "ticks": ""
             }
            },
            "type": "scattermapbox"
           }
          ],
          "scatterpolar": [
           {
            "marker": {
             "colorbar": {
              "outlinewidth": 0,
              "ticks": ""
             }
            },
            "type": "scatterpolar"
           }
          ],
          "scatterpolargl": [
           {
            "marker": {
             "colorbar": {
              "outlinewidth": 0,
              "ticks": ""
             }
            },
            "type": "scatterpolargl"
           }
          ],
          "scatterternary": [
           {
            "marker": {
             "colorbar": {
              "outlinewidth": 0,
              "ticks": ""
             }
            },
            "type": "scatterternary"
           }
          ],
          "surface": [
           {
            "colorbar": {
             "outlinewidth": 0,
             "ticks": ""
            },
            "colorscale": [
             [
              0,
              "#0d0887"
             ],
             [
              0.1111111111111111,
              "#46039f"
             ],
             [
              0.2222222222222222,
              "#7201a8"
             ],
             [
              0.3333333333333333,
              "#9c179e"
             ],
             [
              0.4444444444444444,
              "#bd3786"
             ],
             [
              0.5555555555555556,
              "#d8576b"
             ],
             [
              0.6666666666666666,
              "#ed7953"
             ],
             [
              0.7777777777777778,
              "#fb9f3a"
             ],
             [
              0.8888888888888888,
              "#fdca26"
             ],
             [
              1,
              "#f0f921"
             ]
            ],
            "type": "surface"
           }
          ],
          "table": [
           {
            "cells": {
             "fill": {
              "color": "#506784"
             },
             "line": {
              "color": "rgb(17,17,17)"
             }
            },
            "header": {
             "fill": {
              "color": "#2a3f5f"
             },
             "line": {
              "color": "rgb(17,17,17)"
             }
            },
            "type": "table"
           }
          ]
         },
         "layout": {
          "annotationdefaults": {
           "arrowcolor": "#f2f5fa",
           "arrowhead": 0,
           "arrowwidth": 1
          },
          "autotypenumbers": "strict",
          "coloraxis": {
           "colorbar": {
            "outlinewidth": 0,
            "ticks": ""
           }
          },
          "colorscale": {
           "diverging": [
            [
             0,
             "#8e0152"
            ],
            [
             0.1,
             "#c51b7d"
            ],
            [
             0.2,
             "#de77ae"
            ],
            [
             0.3,
             "#f1b6da"
            ],
            [
             0.4,
             "#fde0ef"
            ],
            [
             0.5,
             "#f7f7f7"
            ],
            [
             0.6,
             "#e6f5d0"
            ],
            [
             0.7,
             "#b8e186"
            ],
            [
             0.8,
             "#7fbc41"
            ],
            [
             0.9,
             "#4d9221"
            ],
            [
             1,
             "#276419"
            ]
           ],
           "sequential": [
            [
             0,
             "#0d0887"
            ],
            [
             0.1111111111111111,
             "#46039f"
            ],
            [
             0.2222222222222222,
             "#7201a8"
            ],
            [
             0.3333333333333333,
             "#9c179e"
            ],
            [
             0.4444444444444444,
             "#bd3786"
            ],
            [
             0.5555555555555556,
             "#d8576b"
            ],
            [
             0.6666666666666666,
             "#ed7953"
            ],
            [
             0.7777777777777778,
             "#fb9f3a"
            ],
            [
             0.8888888888888888,
             "#fdca26"
            ],
            [
             1,
             "#f0f921"
            ]
           ],
           "sequentialminus": [
            [
             0,
             "#0d0887"
            ],
            [
             0.1111111111111111,
             "#46039f"
            ],
            [
             0.2222222222222222,
             "#7201a8"
            ],
            [
             0.3333333333333333,
             "#9c179e"
            ],
            [
             0.4444444444444444,
             "#bd3786"
            ],
            [
             0.5555555555555556,
             "#d8576b"
            ],
            [
             0.6666666666666666,
             "#ed7953"
            ],
            [
             0.7777777777777778,
             "#fb9f3a"
            ],
            [
             0.8888888888888888,
             "#fdca26"
            ],
            [
             1,
             "#f0f921"
            ]
           ]
          },
          "colorway": [
           "#636efa",
           "#EF553B",
           "#00cc96",
           "#ab63fa",
           "#FFA15A",
           "#19d3f3",
           "#FF6692",
           "#B6E880",
           "#FF97FF",
           "#FECB52"
          ],
          "font": {
           "color": "#f2f5fa"
          },
          "geo": {
           "bgcolor": "rgb(17,17,17)",
           "lakecolor": "rgb(17,17,17)",
           "landcolor": "rgb(17,17,17)",
           "showlakes": true,
           "showland": true,
           "subunitcolor": "#506784"
          },
          "hoverlabel": {
           "align": "left"
          },
          "hovermode": "closest",
          "mapbox": {
           "style": "dark"
          },
          "paper_bgcolor": "rgb(17,17,17)",
          "plot_bgcolor": "rgb(17,17,17)",
          "polar": {
           "angularaxis": {
            "gridcolor": "#506784",
            "linecolor": "#506784",
            "ticks": ""
           },
           "bgcolor": "rgb(17,17,17)",
           "radialaxis": {
            "gridcolor": "#506784",
            "linecolor": "#506784",
            "ticks": ""
           }
          },
          "scene": {
           "xaxis": {
            "backgroundcolor": "rgb(17,17,17)",
            "gridcolor": "#506784",
            "gridwidth": 2,
            "linecolor": "#506784",
            "showbackground": true,
            "ticks": "",
            "zerolinecolor": "#C8D4E3"
           },
           "yaxis": {
            "backgroundcolor": "rgb(17,17,17)",
            "gridcolor": "#506784",
            "gridwidth": 2,
            "linecolor": "#506784",
            "showbackground": true,
            "ticks": "",
            "zerolinecolor": "#C8D4E3"
           },
           "zaxis": {
            "backgroundcolor": "rgb(17,17,17)",
            "gridcolor": "#506784",
            "gridwidth": 2,
            "linecolor": "#506784",
            "showbackground": true,
            "ticks": "",
            "zerolinecolor": "#C8D4E3"
           }
          },
          "shapedefaults": {
           "line": {
            "color": "#f2f5fa"
           }
          },
          "sliderdefaults": {
           "bgcolor": "#C8D4E3",
           "bordercolor": "rgb(17,17,17)",
           "borderwidth": 1,
           "tickwidth": 0
          },
          "ternary": {
           "aaxis": {
            "gridcolor": "#506784",
            "linecolor": "#506784",
            "ticks": ""
           },
           "baxis": {
            "gridcolor": "#506784",
            "linecolor": "#506784",
            "ticks": ""
           },
           "bgcolor": "rgb(17,17,17)",
           "caxis": {
            "gridcolor": "#506784",
            "linecolor": "#506784",
            "ticks": ""
           }
          },
          "title": {
           "x": 0.05
          },
          "updatemenudefaults": {
           "bgcolor": "#506784",
           "borderwidth": 0
          },
          "xaxis": {
           "automargin": true,
           "gridcolor": "#283442",
           "linecolor": "#506784",
           "ticks": "",
           "title": {
            "standoff": 15
           },
           "zerolinecolor": "#283442",
           "zerolinewidth": 2
          },
          "yaxis": {
           "automargin": true,
           "gridcolor": "#283442",
           "linecolor": "#506784",
           "ticks": "",
           "title": {
            "standoff": 15
           },
           "zerolinecolor": "#283442",
           "zerolinewidth": 2
          }
         }
        }
       }
      },
      "text/html": [
       "<div>                            <div id=\"1b43ba67-e2fd-432e-8201-999d32d40b51\" class=\"plotly-graph-div\" style=\"height:525px; width:100%;\"></div>            <script type=\"text/javascript\">                require([\"plotly\"], function(Plotly) {                    window.PLOTLYENV=window.PLOTLYENV || {};                                    if (document.getElementById(\"1b43ba67-e2fd-432e-8201-999d32d40b51\")) {                    Plotly.newPlot(                        \"1b43ba67-e2fd-432e-8201-999d32d40b51\",                        [{\"customdata\":[[5636930,175049,1965056,\"US\"],[3532330,113358,2855558,\"Brazil\"],[2975701,55794,2222577,\"India\"],[944671,16148,759639,\"Russia\"],[603338,12843,500102,\"South Africa\"],[567059,68791,380730,\"Peru\"],[549734,59610,448344,\"Mexico\"],[522138,16568,348940,\"Colombia\"],[393769,10723,367897,\"Chile\"],[386054,28838,150376,\"Spain\"],[354764,20376,305866,\"Iran\"],[329043,6730,239806,\"Argentina\"],[325263,41491,1544,\"United Kingdom\"],[305186,3580,277067,\"Saudi Arabia\"],[291588,6219,273579,\"Pakistan\"],[290360,3861,172615,\"Bangladesh\"],[274289,30509,84981,\"France\"],[257065,35427,204960,\"Italy\"],[255723,6080,235569,\"Turkey\"],[233029,9266,206656,\"Germany\"],[197085,6283,140446,\"Iraq\"],[182365,2940,114519,\"Philippines\"],[149408,6500,102991,\"Indonesia\"],[126212,9141,112381,\"Canada\"],[125335,1633,89712,\"Kazakhstan\"],[116481,193,113216,\"Qatar\"],[107435,4366,42141,\"Bolivia\"],[106481,6248,87730,\"Ecuador\"],[102948,2248,52769,\"Ukraine\"],[101329,819,77513,\"Israel\"],[97148,5231,64318,\"Egypt\"],[89867,1533,59132,\"Dominican Republic\"],[89616,4709,83793,\"China\"],[86068,5810,0,\"Sweden\"],[84392,1859,59722,\"Panama\"],[83769,609,78386,\"Oman\"],[80894,9985,18165,\"Belgium\"],[79269,511,71264,\"Kuwait\"],[76355,3196,34523,\"Romania\"],[70111,632,68256,\"Belarus\"],[67456,6219,600,\"Netherlands\"],[66941,2532,55314,\"Guatemala\"],[66193,370,58296,\"United Arab Emirates\"],[60949,1175,46264,\"Japan\"],[60281,1938,41029,\"Poland\"],[56216,27,53651,\"Singapore\"],[55211,1792,40473,\"Portugal\"],[53381,1632,8271,\"Honduras\"],[51304,996,37885,\"Nigeria\"],[49247,817,34199,\"Morocco\"],[48661,181,45166,\"Bahrain\"],[43325,261,41408,\"Ghana\"],[42703,1055,35831,\"Kyrgyzstan\"],[42477,842,35693,\"Armenia\"],[40667,1418,28587,\"Algeria\"],[39332,1841,33900,\"Switzerland\"],[38219,317,27306,\"Venezuela\"],[38074,260,33989,\"Uzbekistan\"],[37942,1389,28016,\"Afghanistan\"],[37665,637,13913,\"Ethiopia\"],[34921,512,32682,\"Azerbaijan\"],[32484,929,22683,\"Moldova\"],[32134,340,10159,\"Costa Rica\"],[31763,532,18157,\"Kenya\"],[30483,137,18214,\"Nepal\"],[30378,692,0,\"Serbia\"],[27755,1776,23364,\"Ireland\"],[24762,730,21260,\"Austria\"],[24602,485,15466,\"Australia\"],[24200,646,11781,\"El Salvador\"],[21551,411,16040,\"Czechia\"],[18762,408,16540,\"Cameroon\"],[18313,122,11102,\"West Bank and Gaza\"],[17396,526,11157,\"Bosnia and Herzegovina\"],[17310,112,14820,\"Cote d'Ivoire\"],[17002,309,14169,\"Korea, South\"],[16525,621,14258,\"Denmark\"],[15131,539,10282,\"Bulgaria\"],[14218,178,13206,\"Madagascar\"],[13308,557,9977,\"North Macedonia\"],[12689,262,8165,\"Senegal\"],[12682,812,6476,\"Sudan\"],[12536,182,7007,\"Paraguay\"],[12168,448,8149,\"Kosovo\"],[11580,116,3204,\"Lebanon\"],[10627,277,9126,\"Zambia\"],[10275,264,9150,\"Norway\"],[10121,180,1053,\"Libya\"],[9802,248,8920,\"Congo (Kinshasa)\"],[9249,125,8944,\"Malaysia\"],[8932,53,7648,\"Guinea\"],[8388,53,6734,\"Gabon\"],[8203,66,7040,\"Tajikistan\"],[8138,238,1347,\"Greece\"],[8119,240,4096,\"Albania\"],[7997,196,5447,\"Haiti\"],[7871,334,7100,\"Finland\"],[7704,124,6969,\"Luxembourg\"],[7594,169,5584,\"Croatia\"],[6885,158,6186,\"Mauritania\"],[6564,26,4012,\"Maldives\"],[5815,152,4587,\"Zimbabwe\"],[5382,60,5233,\"Djibouti\"],[5322,166,2929,\"Malawi\"],[5227,42,2457,\"Namibia\"],[5098,611,3681,\"Hungary\"],[4926,83,2713,\"Equatorial Guinea\"],[4679,61,1755,\"Central African Republic\"],[4311,133,2913,\"Nicaragua\"],[4277,82,3281,\"Montenegro\"],[4128,81,2682,\"Eswatini\"],[3850,77,1625,\"Congo (Brazzaville)\"],[3582,89,2951,\"Cuba\"],[3460,56,2498,\"Suriname\"],[3412,37,2498,\"Cabo Verde\"],[3390,58,3219,\"Thailand\"],[3265,93,2396,\"Somalia\"],[3225,33,2045,\"Slovakia\"],[3195,20,1406,\"Mozambique\"],[2941,11,2789,\"Sri Lanka\"],[2780,11,1712,\"Rwanda\"],[2688,125,2007,\"Mali\"],[2607,64,1420,\"Tunisia\"],[2574,130,2079,\"Slovenia\"],[2558,66,1786,\"Lithuania\"],[2497,47,1290,\"South Sudan\"],[2437,84,455,\"Gambia\"],[2244,63,2011,\"Estonia\"],[2149,33,1015,\"Guinea-Bissau\"],[2095,39,1705,\"Benin\"],[2073,83,475,\"Syria\"],[2068,94,804,\"Angola\"],[2050,10,1920,\"Iceland\"],[1972,69,1542,\"Sierra Leone\"],[1906,542,1058,\"Yemen\"],[1848,19,1199,\"Uganda\"],[1703,27,221,\"Bahamas\"],[1671,22,1538,\"New Zealand\"],[1546,10,854,\"Malta\"],[1532,11,1262,\"Jordan\"],[1516,42,1249,\"Uruguay\"],[1395,21,878,\"Cyprus\"],[1385,17,1128,\"Georgia\"],[1346,16,788,\"Jamaica\"],[1330,33,1093,\"Latvia\"],[1308,3,136,\"Botswana\"],[1297,55,1034,\"Burkina Faso\"],[1284,82,803,\"Liberia\"],[1239,27,891,\"Togo\"],[1172,69,1083,\"Niger\"],[1045,53,875,\"Andorra\"],[1015,30,472,\"Lesotho\"],[1009,25,545,\"Vietnam\"],[981,76,869,\"Chad\"],[891,15,830,\"Sao Tome and Principe\"],[881,30,433,\"Guyana\"],[864,12,162,\"Trinidad and Tobago\"],[726,42,657,\"San Marino\"],[712,13,651,\"Diamond Princess\"],[648,5,43,\"Belize\"],[509,21,183,\"Tanzania\"],[487,7,457,\"Taiwan*\"],[435,6,337,\"Burma\"],[426,1,336,\"Burundi\"],[417,7,396,\"Comoros\"],[361,4,198,\"Papua New Guinea\"],[346,10,334,\"Mauritius\"],[306,0,274,\"Eritrea\"],[298,0,288,\"Mongolia\"],[273,0,263,\"Cambodia\"],[157,7,124,\"Barbados\"],[154,0,110,\"Bhutan\"],[154,4,116,\"Monaco\"],[143,3,139,\"Brunei\"],[127,0,126,\"Seychelles\"],[100,1,88,\"Liechtenstein\"],[94,3,89,\"Antigua and Barbuda\"],[58,0,56,\"Saint Vincent and the Grenadines\"],[28,1,20,\"Fiji\"],[26,0,25,\"Saint Lucia\"],[25,0,25,\"Timor-Leste\"],[24,0,24,\"Grenada\"],[22,0,20,\"Laos\"],[18,0,18,\"Dominica\"],[17,0,17,\"Saint Kitts and Nevis\"],[12,0,12,\"Holy See\"],[9,2,0,\"MS Zaandam\"],[0,0,0,\"Summer Olympics 2020\"],[0,0,0,\"Samoa\"],[0,0,0,\"Palau\"],[0,0,0,\"Kiribati\"]],\"geo\":\"geo\",\"hovertemplate\":\"<b>%{hovertext}</b><br><br>Confirmed=%{marker.color:,.0f}<br>Deaths=%{customdata[1]:,.0f}<br>Recovered=%{customdata[2]:,.0f}<extra></extra>\",\"hovertext\":[\"US\",\"Brazil\",\"India\",\"Russia\",\"South Africa\",\"Peru\",\"Mexico\",\"Colombia\",\"Chile\",\"Spain\",\"Iran\",\"Argentina\",\"United Kingdom\",\"Saudi Arabia\",\"Pakistan\",\"Bangladesh\",\"France\",\"Italy\",\"Turkey\",\"Germany\",\"Iraq\",\"Philippines\",\"Indonesia\",\"Canada\",\"Kazakhstan\",\"Qatar\",\"Bolivia\",\"Ecuador\",\"Ukraine\",\"Israel\",\"Egypt\",\"Dominican Republic\",\"China\",\"Sweden\",\"Panama\",\"Oman\",\"Belgium\",\"Kuwait\",\"Romania\",\"Belarus\",\"Netherlands\",\"Guatemala\",\"United Arab Emirates\",\"Japan\",\"Poland\",\"Singapore\",\"Portugal\",\"Honduras\",\"Nigeria\",\"Morocco\",\"Bahrain\",\"Ghana\",\"Kyrgyzstan\",\"Armenia\",\"Algeria\",\"Switzerland\",\"Venezuela\",\"Uzbekistan\",\"Afghanistan\",\"Ethiopia\",\"Azerbaijan\",\"Moldova\",\"Costa Rica\",\"Kenya\",\"Nepal\",\"Serbia\",\"Ireland\",\"Austria\",\"Australia\",\"El Salvador\",\"Czechia\",\"Cameroon\",\"West Bank and Gaza\",\"Bosnia and Herzegovina\",\"Cote d'Ivoire\",\"Korea, South\",\"Denmark\",\"Bulgaria\",\"Madagascar\",\"North Macedonia\",\"Senegal\",\"Sudan\",\"Paraguay\",\"Kosovo\",\"Lebanon\",\"Zambia\",\"Norway\",\"Libya\",\"Congo (Kinshasa)\",\"Malaysia\",\"Guinea\",\"Gabon\",\"Tajikistan\",\"Greece\",\"Albania\",\"Haiti\",\"Finland\",\"Luxembourg\",\"Croatia\",\"Mauritania\",\"Maldives\",\"Zimbabwe\",\"Djibouti\",\"Malawi\",\"Namibia\",\"Hungary\",\"Equatorial Guinea\",\"Central African Republic\",\"Nicaragua\",\"Montenegro\",\"Eswatini\",\"Congo (Brazzaville)\",\"Cuba\",\"Suriname\",\"Cabo Verde\",\"Thailand\",\"Somalia\",\"Slovakia\",\"Mozambique\",\"Sri Lanka\",\"Rwanda\",\"Mali\",\"Tunisia\",\"Slovenia\",\"Lithuania\",\"South Sudan\",\"Gambia\",\"Estonia\",\"Guinea-Bissau\",\"Benin\",\"Syria\",\"Angola\",\"Iceland\",\"Sierra Leone\",\"Yemen\",\"Uganda\",\"Bahamas\",\"New Zealand\",\"Malta\",\"Jordan\",\"Uruguay\",\"Cyprus\",\"Georgia\",\"Jamaica\",\"Latvia\",\"Botswana\",\"Burkina Faso\",\"Liberia\",\"Togo\",\"Niger\",\"Andorra\",\"Lesotho\",\"Vietnam\",\"Chad\",\"Sao Tome and Principe\",\"Guyana\",\"Trinidad and Tobago\",\"San Marino\",\"Diamond Princess\",\"Belize\",\"Tanzania\",\"Taiwan*\",\"Burma\",\"Burundi\",\"Comoros\",\"Papua New Guinea\",\"Mauritius\",\"Eritrea\",\"Mongolia\",\"Cambodia\",\"Barbados\",\"Bhutan\",\"Monaco\",\"Brunei\",\"Seychelles\",\"Liechtenstein\",\"Antigua and Barbuda\",\"Saint Vincent and the Grenadines\",\"Fiji\",\"Saint Lucia\",\"Timor-Leste\",\"Grenada\",\"Laos\",\"Dominica\",\"Saint Kitts and Nevis\",\"Holy See\",\"MS Zaandam\",\"Summer Olympics 2020\",\"Samoa\",\"Palau\",\"Kiribati\"],\"legendgroup\":\"\",\"locationmode\":\"country names\",\"locations\":[\"US\",\"Brazil\",\"India\",\"Russia\",\"South Africa\",\"Peru\",\"Mexico\",\"Colombia\",\"Chile\",\"Spain\",\"Iran\",\"Argentina\",\"United Kingdom\",\"Saudi Arabia\",\"Pakistan\",\"Bangladesh\",\"France\",\"Italy\",\"Turkey\",\"Germany\",\"Iraq\",\"Philippines\",\"Indonesia\",\"Canada\",\"Kazakhstan\",\"Qatar\",\"Bolivia\",\"Ecuador\",\"Ukraine\",\"Israel\",\"Egypt\",\"Dominican Republic\",\"China\",\"Sweden\",\"Panama\",\"Oman\",\"Belgium\",\"Kuwait\",\"Romania\",\"Belarus\",\"Netherlands\",\"Guatemala\",\"United Arab Emirates\",\"Japan\",\"Poland\",\"Singapore\",\"Portugal\",\"Honduras\",\"Nigeria\",\"Morocco\",\"Bahrain\",\"Ghana\",\"Kyrgyzstan\",\"Armenia\",\"Algeria\",\"Switzerland\",\"Venezuela\",\"Uzbekistan\",\"Afghanistan\",\"Ethiopia\",\"Azerbaijan\",\"Moldova\",\"Costa Rica\",\"Kenya\",\"Nepal\",\"Serbia\",\"Ireland\",\"Austria\",\"Australia\",\"El Salvador\",\"Czechia\",\"Cameroon\",\"West Bank and Gaza\",\"Bosnia and Herzegovina\",\"Cote d'Ivoire\",\"Korea, South\",\"Denmark\",\"Bulgaria\",\"Madagascar\",\"North Macedonia\",\"Senegal\",\"Sudan\",\"Paraguay\",\"Kosovo\",\"Lebanon\",\"Zambia\",\"Norway\",\"Libya\",\"Congo (Kinshasa)\",\"Malaysia\",\"Guinea\",\"Gabon\",\"Tajikistan\",\"Greece\",\"Albania\",\"Haiti\",\"Finland\",\"Luxembourg\",\"Croatia\",\"Mauritania\",\"Maldives\",\"Zimbabwe\",\"Djibouti\",\"Malawi\",\"Namibia\",\"Hungary\",\"Equatorial Guinea\",\"Central African Republic\",\"Nicaragua\",\"Montenegro\",\"Eswatini\",\"Congo (Brazzaville)\",\"Cuba\",\"Suriname\",\"Cabo Verde\",\"Thailand\",\"Somalia\",\"Slovakia\",\"Mozambique\",\"Sri Lanka\",\"Rwanda\",\"Mali\",\"Tunisia\",\"Slovenia\",\"Lithuania\",\"South Sudan\",\"Gambia\",\"Estonia\",\"Guinea-Bissau\",\"Benin\",\"Syria\",\"Angola\",\"Iceland\",\"Sierra Leone\",\"Yemen\",\"Uganda\",\"Bahamas\",\"New Zealand\",\"Malta\",\"Jordan\",\"Uruguay\",\"Cyprus\",\"Georgia\",\"Jamaica\",\"Latvia\",\"Botswana\",\"Burkina Faso\",\"Liberia\",\"Togo\",\"Niger\",\"Andorra\",\"Lesotho\",\"Vietnam\",\"Chad\",\"Sao Tome and Principe\",\"Guyana\",\"Trinidad and Tobago\",\"San Marino\",\"Diamond Princess\",\"Belize\",\"Tanzania\",\"Taiwan*\",\"Burma\",\"Burundi\",\"Comoros\",\"Papua New Guinea\",\"Mauritius\",\"Eritrea\",\"Mongolia\",\"Cambodia\",\"Barbados\",\"Bhutan\",\"Monaco\",\"Brunei\",\"Seychelles\",\"Liechtenstein\",\"Antigua and Barbuda\",\"Saint Vincent and the Grenadines\",\"Fiji\",\"Saint Lucia\",\"Timor-Leste\",\"Grenada\",\"Laos\",\"Dominica\",\"Saint Kitts and Nevis\",\"Holy See\",\"MS Zaandam\",\"Summer Olympics 2020\",\"Samoa\",\"Palau\",\"Kiribati\"],\"marker\":{\"color\":[5636930,3532330,2975701,944671,603338,567059,549734,522138,393769,386054,354764,329043,325263,305186,291588,290360,274289,257065,255723,233029,197085,182365,149408,126212,125335,116481,107435,106481,102948,101329,97148,89867,89616,86068,84392,83769,80894,79269,76355,70111,67456,66941,66193,60949,60281,56216,55211,53381,51304,49247,48661,43325,42703,42477,40667,39332,38219,38074,37942,37665,34921,32484,32134,31763,30483,30378,27755,24762,24602,24200,21551,18762,18313,17396,17310,17002,16525,15131,14218,13308,12689,12682,12536,12168,11580,10627,10275,10121,9802,9249,8932,8388,8203,8138,8119,7997,7871,7704,7594,6885,6564,5815,5382,5322,5227,5098,4926,4679,4311,4277,4128,3850,3582,3460,3412,3390,3265,3225,3195,2941,2780,2688,2607,2574,2558,2497,2437,2244,2149,2095,2073,2068,2050,1972,1906,1848,1703,1671,1546,1532,1516,1395,1385,1346,1330,1308,1297,1284,1239,1172,1045,1015,1009,981,891,881,864,726,712,648,509,487,435,426,417,361,346,306,298,273,157,154,154,143,127,100,94,58,28,26,25,24,22,18,17,12,9,0,0,0,0],\"coloraxis\":\"coloraxis\",\"size\":[5636930,3532330,2975701,944671,603338,567059,549734,522138,393769,386054,354764,329043,325263,305186,291588,290360,274289,257065,255723,233029,197085,182365,149408,126212,125335,116481,107435,106481,102948,101329,97148,89867,89616,86068,84392,83769,80894,79269,76355,70111,67456,66941,66193,60949,60281,56216,55211,53381,51304,49247,48661,43325,42703,42477,40667,39332,38219,38074,37942,37665,34921,32484,32134,31763,30483,30378,27755,24762,24602,24200,21551,18762,18313,17396,17310,17002,16525,15131,14218,13308,12689,12682,12536,12168,11580,10627,10275,10121,9802,9249,8932,8388,8203,8138,8119,7997,7871,7704,7594,6885,6564,5815,5382,5322,5227,5098,4926,4679,4311,4277,4128,3850,3582,3460,3412,3390,3265,3225,3195,2941,2780,2688,2607,2574,2558,2497,2437,2244,2149,2095,2073,2068,2050,1972,1906,1848,1703,1671,1546,1532,1516,1395,1385,1346,1330,1308,1297,1284,1239,1172,1045,1015,1009,981,891,881,864,726,712,648,509,487,435,426,417,361,346,306,298,273,157,154,154,143,127,100,94,58,28,26,25,24,22,18,17,12,9,0,0,0,0],\"sizemode\":\"area\",\"sizeref\":3523.08125,\"symbol\":\"circle\"},\"mode\":\"markers\",\"name\":\"\",\"showlegend\":false,\"type\":\"scattergeo\"}],                        {\"coloraxis\":{\"colorbar\":{\"title\":{\"text\":\"Confirmed\"}},\"colorscale\":[[0.0,\"#0d0887\"],[0.1111111111111111,\"#46039f\"],[0.2222222222222222,\"#7201a8\"],[0.3333333333333333,\"#9c179e\"],[0.4444444444444444,\"#bd3786\"],[0.5555555555555556,\"#d8576b\"],[0.6666666666666666,\"#ed7953\"],[0.7777777777777778,\"#fb9f3a\"],[0.8888888888888888,\"#fdca26\"],[1.0,\"#f0f921\"]]},\"geo\":{\"center\":{},\"domain\":{\"x\":[0.0,1.0],\"y\":[0.0,1.0]}},\"legend\":{\"itemsizing\":\"constant\",\"tracegroupgap\":0},\"margin\":{\"t\":60},\"template\":{\"data\":{\"bar\":[{\"error_x\":{\"color\":\"#f2f5fa\"},\"error_y\":{\"color\":\"#f2f5fa\"},\"marker\":{\"line\":{\"color\":\"rgb(17,17,17)\",\"width\":0.5},\"pattern\":{\"fillmode\":\"overlay\",\"size\":10,\"solidity\":0.2}},\"type\":\"bar\"}],\"barpolar\":[{\"marker\":{\"line\":{\"color\":\"rgb(17,17,17)\",\"width\":0.5},\"pattern\":{\"fillmode\":\"overlay\",\"size\":10,\"solidity\":0.2}},\"type\":\"barpolar\"}],\"carpet\":[{\"aaxis\":{\"endlinecolor\":\"#A2B1C6\",\"gridcolor\":\"#506784\",\"linecolor\":\"#506784\",\"minorgridcolor\":\"#506784\",\"startlinecolor\":\"#A2B1C6\"},\"baxis\":{\"endlinecolor\":\"#A2B1C6\",\"gridcolor\":\"#506784\",\"linecolor\":\"#506784\",\"minorgridcolor\":\"#506784\",\"startlinecolor\":\"#A2B1C6\"},\"type\":\"carpet\"}],\"choropleth\":[{\"colorbar\":{\"outlinewidth\":0,\"ticks\":\"\"},\"type\":\"choropleth\"}],\"contour\":[{\"colorbar\":{\"outlinewidth\":0,\"ticks\":\"\"},\"colorscale\":[[0.0,\"#0d0887\"],[0.1111111111111111,\"#46039f\"],[0.2222222222222222,\"#7201a8\"],[0.3333333333333333,\"#9c179e\"],[0.4444444444444444,\"#bd3786\"],[0.5555555555555556,\"#d8576b\"],[0.6666666666666666,\"#ed7953\"],[0.7777777777777778,\"#fb9f3a\"],[0.8888888888888888,\"#fdca26\"],[1.0,\"#f0f921\"]],\"type\":\"contour\"}],\"contourcarpet\":[{\"colorbar\":{\"outlinewidth\":0,\"ticks\":\"\"},\"type\":\"contourcarpet\"}],\"heatmap\":[{\"colorbar\":{\"outlinewidth\":0,\"ticks\":\"\"},\"colorscale\":[[0.0,\"#0d0887\"],[0.1111111111111111,\"#46039f\"],[0.2222222222222222,\"#7201a8\"],[0.3333333333333333,\"#9c179e\"],[0.4444444444444444,\"#bd3786\"],[0.5555555555555556,\"#d8576b\"],[0.6666666666666666,\"#ed7953\"],[0.7777777777777778,\"#fb9f3a\"],[0.8888888888888888,\"#fdca26\"],[1.0,\"#f0f921\"]],\"type\":\"heatmap\"}],\"heatmapgl\":[{\"colorbar\":{\"outlinewidth\":0,\"ticks\":\"\"},\"colorscale\":[[0.0,\"#0d0887\"],[0.1111111111111111,\"#46039f\"],[0.2222222222222222,\"#7201a8\"],[0.3333333333333333,\"#9c179e\"],[0.4444444444444444,\"#bd3786\"],[0.5555555555555556,\"#d8576b\"],[0.6666666666666666,\"#ed7953\"],[0.7777777777777778,\"#fb9f3a\"],[0.8888888888888888,\"#fdca26\"],[1.0,\"#f0f921\"]],\"type\":\"heatmapgl\"}],\"histogram\":[{\"marker\":{\"pattern\":{\"fillmode\":\"overlay\",\"size\":10,\"solidity\":0.2}},\"type\":\"histogram\"}],\"histogram2d\":[{\"colorbar\":{\"outlinewidth\":0,\"ticks\":\"\"},\"colorscale\":[[0.0,\"#0d0887\"],[0.1111111111111111,\"#46039f\"],[0.2222222222222222,\"#7201a8\"],[0.3333333333333333,\"#9c179e\"],[0.4444444444444444,\"#bd3786\"],[0.5555555555555556,\"#d8576b\"],[0.6666666666666666,\"#ed7953\"],[0.7777777777777778,\"#fb9f3a\"],[0.8888888888888888,\"#fdca26\"],[1.0,\"#f0f921\"]],\"type\":\"histogram2d\"}],\"histogram2dcontour\":[{\"colorbar\":{\"outlinewidth\":0,\"ticks\":\"\"},\"colorscale\":[[0.0,\"#0d0887\"],[0.1111111111111111,\"#46039f\"],[0.2222222222222222,\"#7201a8\"],[0.3333333333333333,\"#9c179e\"],[0.4444444444444444,\"#bd3786\"],[0.5555555555555556,\"#d8576b\"],[0.6666666666666666,\"#ed7953\"],[0.7777777777777778,\"#fb9f3a\"],[0.8888888888888888,\"#fdca26\"],[1.0,\"#f0f921\"]],\"type\":\"histogram2dcontour\"}],\"mesh3d\":[{\"colorbar\":{\"outlinewidth\":0,\"ticks\":\"\"},\"type\":\"mesh3d\"}],\"parcoords\":[{\"line\":{\"colorbar\":{\"outlinewidth\":0,\"ticks\":\"\"}},\"type\":\"parcoords\"}],\"pie\":[{\"automargin\":true,\"type\":\"pie\"}],\"scatter\":[{\"marker\":{\"line\":{\"color\":\"#283442\"}},\"type\":\"scatter\"}],\"scatter3d\":[{\"line\":{\"colorbar\":{\"outlinewidth\":0,\"ticks\":\"\"}},\"marker\":{\"colorbar\":{\"outlinewidth\":0,\"ticks\":\"\"}},\"type\":\"scatter3d\"}],\"scattercarpet\":[{\"marker\":{\"colorbar\":{\"outlinewidth\":0,\"ticks\":\"\"}},\"type\":\"scattercarpet\"}],\"scattergeo\":[{\"marker\":{\"colorbar\":{\"outlinewidth\":0,\"ticks\":\"\"}},\"type\":\"scattergeo\"}],\"scattergl\":[{\"marker\":{\"line\":{\"color\":\"#283442\"}},\"type\":\"scattergl\"}],\"scattermapbox\":[{\"marker\":{\"colorbar\":{\"outlinewidth\":0,\"ticks\":\"\"}},\"type\":\"scattermapbox\"}],\"scatterpolar\":[{\"marker\":{\"colorbar\":{\"outlinewidth\":0,\"ticks\":\"\"}},\"type\":\"scatterpolar\"}],\"scatterpolargl\":[{\"marker\":{\"colorbar\":{\"outlinewidth\":0,\"ticks\":\"\"}},\"type\":\"scatterpolargl\"}],\"scatterternary\":[{\"marker\":{\"colorbar\":{\"outlinewidth\":0,\"ticks\":\"\"}},\"type\":\"scatterternary\"}],\"surface\":[{\"colorbar\":{\"outlinewidth\":0,\"ticks\":\"\"},\"colorscale\":[[0.0,\"#0d0887\"],[0.1111111111111111,\"#46039f\"],[0.2222222222222222,\"#7201a8\"],[0.3333333333333333,\"#9c179e\"],[0.4444444444444444,\"#bd3786\"],[0.5555555555555556,\"#d8576b\"],[0.6666666666666666,\"#ed7953\"],[0.7777777777777778,\"#fb9f3a\"],[0.8888888888888888,\"#fdca26\"],[1.0,\"#f0f921\"]],\"type\":\"surface\"}],\"table\":[{\"cells\":{\"fill\":{\"color\":\"#506784\"},\"line\":{\"color\":\"rgb(17,17,17)\"}},\"header\":{\"fill\":{\"color\":\"#2a3f5f\"},\"line\":{\"color\":\"rgb(17,17,17)\"}},\"type\":\"table\"}]},\"layout\":{\"annotationdefaults\":{\"arrowcolor\":\"#f2f5fa\",\"arrowhead\":0,\"arrowwidth\":1},\"autotypenumbers\":\"strict\",\"coloraxis\":{\"colorbar\":{\"outlinewidth\":0,\"ticks\":\"\"}},\"colorscale\":{\"diverging\":[[0,\"#8e0152\"],[0.1,\"#c51b7d\"],[0.2,\"#de77ae\"],[0.3,\"#f1b6da\"],[0.4,\"#fde0ef\"],[0.5,\"#f7f7f7\"],[0.6,\"#e6f5d0\"],[0.7,\"#b8e186\"],[0.8,\"#7fbc41\"],[0.9,\"#4d9221\"],[1,\"#276419\"]],\"sequential\":[[0.0,\"#0d0887\"],[0.1111111111111111,\"#46039f\"],[0.2222222222222222,\"#7201a8\"],[0.3333333333333333,\"#9c179e\"],[0.4444444444444444,\"#bd3786\"],[0.5555555555555556,\"#d8576b\"],[0.6666666666666666,\"#ed7953\"],[0.7777777777777778,\"#fb9f3a\"],[0.8888888888888888,\"#fdca26\"],[1.0,\"#f0f921\"]],\"sequentialminus\":[[0.0,\"#0d0887\"],[0.1111111111111111,\"#46039f\"],[0.2222222222222222,\"#7201a8\"],[0.3333333333333333,\"#9c179e\"],[0.4444444444444444,\"#bd3786\"],[0.5555555555555556,\"#d8576b\"],[0.6666666666666666,\"#ed7953\"],[0.7777777777777778,\"#fb9f3a\"],[0.8888888888888888,\"#fdca26\"],[1.0,\"#f0f921\"]]},\"colorway\":[\"#636efa\",\"#EF553B\",\"#00cc96\",\"#ab63fa\",\"#FFA15A\",\"#19d3f3\",\"#FF6692\",\"#B6E880\",\"#FF97FF\",\"#FECB52\"],\"font\":{\"color\":\"#f2f5fa\"},\"geo\":{\"bgcolor\":\"rgb(17,17,17)\",\"lakecolor\":\"rgb(17,17,17)\",\"landcolor\":\"rgb(17,17,17)\",\"showlakes\":true,\"showland\":true,\"subunitcolor\":\"#506784\"},\"hoverlabel\":{\"align\":\"left\"},\"hovermode\":\"closest\",\"mapbox\":{\"style\":\"dark\"},\"paper_bgcolor\":\"rgb(17,17,17)\",\"plot_bgcolor\":\"rgb(17,17,17)\",\"polar\":{\"angularaxis\":{\"gridcolor\":\"#506784\",\"linecolor\":\"#506784\",\"ticks\":\"\"},\"bgcolor\":\"rgb(17,17,17)\",\"radialaxis\":{\"gridcolor\":\"#506784\",\"linecolor\":\"#506784\",\"ticks\":\"\"}},\"scene\":{\"xaxis\":{\"backgroundcolor\":\"rgb(17,17,17)\",\"gridcolor\":\"#506784\",\"gridwidth\":2,\"linecolor\":\"#506784\",\"showbackground\":true,\"ticks\":\"\",\"zerolinecolor\":\"#C8D4E3\"},\"yaxis\":{\"backgroundcolor\":\"rgb(17,17,17)\",\"gridcolor\":\"#506784\",\"gridwidth\":2,\"linecolor\":\"#506784\",\"showbackground\":true,\"ticks\":\"\",\"zerolinecolor\":\"#C8D4E3\"},\"zaxis\":{\"backgroundcolor\":\"rgb(17,17,17)\",\"gridcolor\":\"#506784\",\"gridwidth\":2,\"linecolor\":\"#506784\",\"showbackground\":true,\"ticks\":\"\",\"zerolinecolor\":\"#C8D4E3\"}},\"shapedefaults\":{\"line\":{\"color\":\"#f2f5fa\"}},\"sliderdefaults\":{\"bgcolor\":\"#C8D4E3\",\"bordercolor\":\"rgb(17,17,17)\",\"borderwidth\":1,\"tickwidth\":0},\"ternary\":{\"aaxis\":{\"gridcolor\":\"#506784\",\"linecolor\":\"#506784\",\"ticks\":\"\"},\"baxis\":{\"gridcolor\":\"#506784\",\"linecolor\":\"#506784\",\"ticks\":\"\"},\"bgcolor\":\"rgb(17,17,17)\",\"caxis\":{\"gridcolor\":\"#506784\",\"linecolor\":\"#506784\",\"ticks\":\"\"}},\"title\":{\"x\":0.05},\"updatemenudefaults\":{\"bgcolor\":\"#506784\",\"borderwidth\":0},\"xaxis\":{\"automargin\":true,\"gridcolor\":\"#283442\",\"linecolor\":\"#506784\",\"ticks\":\"\",\"title\":{\"standoff\":15},\"zerolinecolor\":\"#283442\",\"zerolinewidth\":2},\"yaxis\":{\"automargin\":true,\"gridcolor\":\"#283442\",\"linecolor\":\"#506784\",\"ticks\":\"\",\"title\":{\"standoff\":15},\"zerolinecolor\":\"#283442\",\"zerolinewidth\":2}}}},                        {\"responsive\": true}                    ).then(function(){\n",
       "                            \n",
       "var gd = document.getElementById('1b43ba67-e2fd-432e-8201-999d32d40b51');\n",
       "var x = new MutationObserver(function (mutations, observer) {{\n",
       "        var display = window.getComputedStyle(gd).display;\n",
       "        if (!display || display === 'none') {{\n",
       "            console.log([gd, 'removed!']);\n",
       "            Plotly.purge(gd);\n",
       "            observer.disconnect();\n",
       "        }}\n",
       "}});\n",
       "\n",
       "// Listen for the removal of the full notebook cells\n",
       "var notebookContainer = gd.closest('#notebook-container');\n",
       "if (notebookContainer) {{\n",
       "    x.observe(notebookContainer, {childList: true});\n",
       "}}\n",
       "\n",
       "// Listen for the clearing of the current output cell\n",
       "var outputEl = gd.closest('.output');\n",
       "if (outputEl) {{\n",
       "    x.observe(outputEl, {childList: true});\n",
       "}}\n",
       "\n",
       "                        })                };                });            </script>        </div>"
      ]
     },
     "metadata": {},
     "output_type": "display_data"
    }
   ],
   "source": [
    "import plotly.express as px\n",
    "from data import countries_df\n",
    "\n",
    "\n",
    "\n",
    "fig = px.scatter_geo(countries_df, \n",
    "                     size=\"Confirmed\",\n",
    "                     locations=\"Country_Region\",\n",
    "                     locationmode=\"country names\",\n",
    "                    color=\"Confirmed\",\n",
    "                     hover_name=\"Country_Region\",\n",
    "                     size_max=40,\n",
    "                     template=\"plotly_dark\",\n",
    "                     hover_data={\n",
    "                         \"Confirmed\":\":,.0f\",\n",
    "                         \"Deaths\":\":,.0f\",\n",
    "                         \"Recovered\":\":,.0f\",\n",
    "                         \"Country_Region\":False\n",
    "                     }\n",
    "                    )\n",
    "fig.show()"
   ]
  }
 ],
 "metadata": {
  "kernelspec": {
   "display_name": "Python 3 (ipykernel)",
   "language": "python",
   "name": "python3"
  },
  "language_info": {
   "codemirror_mode": {
    "name": "ipython",
    "version": 3
   },
   "file_extension": ".py",
   "mimetype": "text/x-python",
   "name": "python",
   "nbconvert_exporter": "python",
   "pygments_lexer": "ipython3",
   "version": "3.8.10"
  }
 },
 "nbformat": 4,
 "nbformat_minor": 5
}
